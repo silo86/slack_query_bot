{
 "cells": [
  {
   "cell_type": "code",
   "execution_count": 1,
   "metadata": {},
   "outputs": [],
   "source": [
    "from sqlalchemy import create_engine, text\n",
    "import pyperclip as pc\n",
    "import psycopg2\n",
    "import pandas as pd\n",
    "import datetime\n",
    "import os\n",
    "import glob\n",
    "os.path.abspath(os.getcwd())\n",
    "import sys\n",
    "import errno\n",
    "from pathlib import Path\n",
    "from flask import make_response,jsonify"
   ]
  },
  {
   "cell_type": "code",
   "execution_count": 16,
   "metadata": {},
   "outputs": [],
   "source": [
    "text = '-ejecutar [select * from public.\"JUZG\"] saepen'"
   ]
  },
  {
   "cell_type": "code",
   "execution_count": 17,
   "metadata": {},
   "outputs": [],
   "source": [
    "query_begin_character = text.find('[')\n",
    "query_end_character = text.find(']')"
   ]
  },
  {
   "cell_type": "code",
   "execution_count": 18,
   "metadata": {},
   "outputs": [
    {
     "data": {
      "text/plain": [
       "38"
      ]
     },
     "execution_count": 18,
     "metadata": {},
     "output_type": "execute_result"
    }
   ],
   "source": [
    "query_end_character"
   ]
  },
  {
   "cell_type": "code",
   "execution_count": 19,
   "metadata": {},
   "outputs": [],
   "source": [
    "_query = text[query_begin_character + 1:query_end_character]"
   ]
  },
  {
   "cell_type": "code",
   "execution_count": 20,
   "metadata": {},
   "outputs": [
    {
     "data": {
      "text/plain": [
       "'select * from public.\"JUZG\"'"
      ]
     },
     "execution_count": 20,
     "metadata": {},
     "output_type": "execute_result"
    }
   ],
   "source": [
    "_query"
   ]
  },
  {
   "cell_type": "code",
   "execution_count": 24,
   "metadata": {},
   "outputs": [],
   "source": [
    "#ddedbs\n",
    "hostname = os.getenv(\"ddedbs_ip\")\n",
    "username = os.getenv(\"ddedbs_username\")\n",
    "password = os.getenv(\"ddedbs_pass\")"
   ]
  },
  {
   "cell_type": "code",
   "execution_count": 27,
   "metadata": {},
   "outputs": [],
   "source": [
    "con = psycopg2.connect(host=hostname, user=username, password=password, dbname='saeciv')\n",
    "lista_db = '''SELECT datname FROM pg_database WHERE datistemplate = false '''\n",
    "bases = pd.read_sql(lista_db,con)\n",
    "dbs = [base for base in bases.datname if (base.startswith('sae') or base.startswith('oga')) and not base.startswith('saemed') and not base.startswith('saeoga') and base not in ('saejes','saepjt','saeori')]"
   ]
  },
  {
   "cell_type": "code",
   "execution_count": 28,
   "metadata": {},
   "outputs": [
    {
     "data": {
      "text/plain": [
       "['oga',\n",
       " 'ogacjc',\n",
       " 'ogaold',\n",
       " 'saeapr',\n",
       " 'saeaprcjc',\n",
       " 'saebrs',\n",
       " 'saeciv',\n",
       " 'saecivcjc',\n",
       " 'saecivcjm',\n",
       " 'saecon',\n",
       " 'saedoc',\n",
       " 'saedoccjc',\n",
       " 'saedoccjm',\n",
       " 'saefam',\n",
       " 'saefamcjc',\n",
       " 'saelab',\n",
       " 'saelabcjc',\n",
       " 'saelabcjm',\n",
       " 'saepen',\n",
       " 'saepencam',\n",
       " 'saepencjm',\n",
       " 'saesup',\n",
       " 'saefamcjm',\n",
       " 'ogacjm']"
      ]
     },
     "execution_count": 28,
     "metadata": {},
     "output_type": "execute_result"
    }
   ],
   "source": [
    "dbs"
   ]
  },
  {
   "cell_type": "code",
   "execution_count": 39,
   "metadata": {},
   "outputs": [],
   "source": [
    "keyword = 'ingreso_a_salas'"
   ]
  },
  {
   "cell_type": "code",
   "execution_count": 40,
   "metadata": {},
   "outputs": [
    {
     "data": {
      "text/plain": [
       "15"
      ]
     },
     "execution_count": 40,
     "metadata": {},
     "output_type": "execute_result"
    }
   ],
   "source": [
    "len(keyword)"
   ]
  },
  {
   "cell_type": "code",
   "execution_count": 41,
   "metadata": {},
   "outputs": [
    {
     "data": {
      "text/plain": [
       "'s'"
      ]
     },
     "execution_count": 41,
     "metadata": {},
     "output_type": "execute_result"
    }
   ],
   "source": [
    "keyword[len(keyword)-1]"
   ]
  },
  {
   "cell_type": "code",
   "execution_count": 49,
   "metadata": {},
   "outputs": [],
   "source": [
    "fuero = 'saepencjm_20201103'\n",
    "hostname_vero = '172.23.12.23'\n",
    "username_vero = 'postgres'\n",
    "password_vero = 'estadistica'\n",
    "fechadesde = '20200101'\n",
    "fechahasta = '20201103'"
   ]
  },
  {
   "cell_type": "code",
   "execution_count": 50,
   "metadata": {},
   "outputs": [],
   "source": [
    "query_path = os.path.join(os.getcwd(),'queries')\n",
    "if keyword:\n",
    "    keywordsql = keyword +'.sql'\n",
    "    sql_path = os.path.join(query_path,keywordsql)\n",
    "    if keyword[len(keyword)-1] == '_': #si el keyword termina en _ no tiene parametros\n",
    "        parameters = False\n",
    "    else:\n",
    "        parameters = True"
   ]
  },
  {
   "cell_type": "code",
   "execution_count": 51,
   "metadata": {},
   "outputs": [
    {
     "data": {
      "text/plain": [
       "'C:\\\\Proyectos\\\\coffeScript_VSistemas\\\\CoffeeScriptV1\\\\queries\\\\ingreso_a_salas.sql'"
      ]
     },
     "execution_count": 51,
     "metadata": {},
     "output_type": "execute_result"
    }
   ],
   "source": [
    "sql_path"
   ]
  },
  {
   "cell_type": "code",
   "execution_count": 52,
   "metadata": {},
   "outputs": [
    {
     "data": {
      "text/plain": [
       "'C:\\\\Proyectos\\\\coffeScript_VSistemas\\\\CoffeeScriptV1'"
      ]
     },
     "execution_count": 52,
     "metadata": {},
     "output_type": "execute_result"
    }
   ],
   "source": [
    "%pwd"
   ]
  },
  {
   "cell_type": "code",
   "execution_count": 53,
   "metadata": {},
   "outputs": [
    {
     "name": "stdout",
     "output_type": "stream",
     "text": [
      "ESTA ES LA BASE DE CONSULTA ['saepencjm20210302', 'saeapr20210302', 'saeaprcjc20210302', 'saebrs20210302', 'saeciv20210302', 'saecivcjc20210302', 'saecivcjm20210302', 'saecon20210302', 'saedoc20210302', 'saedoccjc20210302', 'saedoccjm20210302', 'saefam20210302', 'saefamcjc20210302', 'saefamcjm20210302', 'saelab20210302', 'saelabcjc20210302', 'saelabcjm20210302', 'saepen20210302', 'saepencam20210302', 'saefam_20210301', 'saefamcjc_20210301', 'saecon_20200302', 'saefamcjm_20210301', 'saelab_20210104', 'saepencjm_20200302', 'saelab_20191203', 'saefam_20200901', 'saeciv_20201001', 'saedoccjc_20201001', 'saelab_20201001', 'saedoc_20201103', 'saepen_20200804', 'saepen_20201103', 'saepencjm_20201103', 'saepencam_20200804', 'saefam_20201201', 'saeaprcjc_20210104', 'saebrs_20210104', 'saecivcjc_20210104', 'saepencjm_20210104', 'saepen_20210104', 'saepen_20210201', 'saedoccjc_20201201', 'saedoccjc_20210104', 'saedoc_20210104', 'saecivcjmtest', 'saebrstest']\n",
      "Iniciando lectura de base de datos saepencjm_20201103\n",
      "\n",
      " datos conexion: 172.23.12.23 postgres estadistica saepencjm_20201103\n",
      "TEXTOOOOOOOOOOOOOO : ['select \\ndistinct on (sala,expte)\\n* \\nfrom(\\nselect \\ncurrent_database() as base,\\nj.dscr as sala,\\ncase when p.tcuaid = 1 then \\'PRINCIPAL\\' else \\'OTROS\\' end as tipo,\\nfn_devuelvenumexptecompleto(s.procid) as expte,\\nt.dscr,\\n* \\nfrom public.\"SALI\" as s\\nleft join public.\"TSAL\" as t on t.tsalid = s.tsalid\\nleft join public.\"JUZG\" as j on s.juzgid = j.juzgid\\nleft join public.\"PROC\" as p on s.procid = p.procid\\nwhere t.dscr ilike \\'ingreso%sal%\\'\\nand j.dscr not ilike \\'%juzg%\\'\\nand fsal >= \\'20200101\\'\\nand fsal <= \\'20201103\\'\\norder by s.procid, s.saliid) as q']\n",
      "DF: Empty DataFrame\n",
      "Columns: [base, sala, tipo, expte, dscr, saliid, procid, tsalid, susaid, fsal, hsal, freg, hreg, pers, cuer, foja, juzgid, obse, usua, tsalid, dscr, obse, acti, juzgid, dscr, nomi, inst, cjud, acti, jue1, jue2, jue3, sec1, sec2, sec3, sec4, obse, exco, smtp, puer, emai, coju, csae, fuer, usma, pama, digi, procid, codb, clex, juzgid, eproid, expt, tcuaid, stcuid, cnum, acum, acto, dema, obse, lepa, lear, inst, rese, fini, hini, ffin, fhec, hhec, lhec, comi, fisc, ases, defe, frec, trec, pcos, aux1, aux2, aux3, aux4, aux5, feba, usba, moba, radiid, pase, suep]\n",
      "Index: []\n",
      "\n",
      "[0 rows x 88 columns]\n",
      "PARAMETERSSSSSSSSSSSSSSSSSSS: True\n",
      "PARAMETERSSSSSSSSSSSSSSSSSSSTRYYYYYYYYY: 20200101 20201103\n",
      "\n",
      "1\n"
     ]
    }
   ],
   "source": [
    "parameters = True\n",
    "if '_' in fuero: # si esta _ en fuero es porque se esta consultando los backups, la conexion va a la pc que guarda los backups\n",
    "            con = psycopg2.connect(host=hostname_vero, user=username_vero, password=password_vero)\n",
    "            lista_db = 'SELECT datname FROM pg_database WHERE datistemplate = false'\n",
    "            bases = pd.read_sql(lista_db,con)\n",
    "            dbs = [base for base in bases.datname if base.startswith('sae')]\n",
    "            print(f'ESTA ES LA BASE DE CONSULTA {dbs}')\n",
    "            hostname = hostname_vero\n",
    "            username = username_vero\n",
    "            password = password_vero\n",
    "else: # si _ no esta en fuero entonces se consulta las bases ddedbs\n",
    "    print(hostname,username,password)\n",
    "    con = psycopg2.connect(host=hostname, user=username, password=password, dbname='saeciv')\n",
    "    lista_db = '''SELECT datname FROM pg_database WHERE datistemplate = false '''\n",
    "    bases = pd.read_sql(lista_db,con)\n",
    "    dbs = [base for base in bases.datname if (base.startswith('sae') or base.startswith('oga')) and not base.startswith('saemed') and not base.startswith('saeoga') and base not in ('saejes','saepjt','saeori')]\n",
    "dfs = pd.DataFrame()\n",
    "\n",
    "\n",
    "#### corre la consulta ####\n",
    "for  fila in dbs:\n",
    "    if fuero == fila:\n",
    "        print(f'Iniciando lectura de base de datos {fila}', end='\\n')\n",
    "        print(f'\\n datos conexion: {hostname} {username} {password} {fila}')\n",
    "        con_b = psycopg2.connect(host=hostname, user=username, password=password, dbname = fila)\n",
    "        query_file = open(sql_path, 'r', encoding=\"latin-1\")\n",
    "        texto = query_file.read()\n",
    "\n",
    "        if parameters == True:\n",
    "\n",
    "            texto = texto.format(fechadesde,fechahasta)\n",
    "            print(f'TEXTOOOOOOOOOOOOOO : {[texto]}')\n",
    "        else:\n",
    "            texto = texto\n",
    "\n",
    "        df = pd.read_sql(texto,con_b)\n",
    "        print(f'DF: {df}')\n",
    "        dfs = dfs.append(df)\n",
    "        con_b.close()\n",
    "print(f'PARAMETERSSSSSSSSSSSSSSSSSSS: {parameters}')\n",
    "#### guarda el resultado de la consulta en un excel y agrega la query en un nuevo sheet (metadata) ####\n",
    "\n",
    "\n",
    "print(f'PARAMETERSSSSSSSSSSSSSSSSSSSTRYYYYYYYYY: {fechadesde} {fechahasta}')\n",
    "if parameters == True:\n",
    "    print('\\n1')\n",
    "    nombre = f'{keyword}_{fuero}_desde_{fechadesde}_hasta_{fechahasta}.xlsx'\n",
    "else:\n",
    "    print(f'AQUIIIIIIIIIIIIIIIIIIII {fechadesde}')\n",
    "    print('\\n2')\n",
    "    nombre = f'{keyword}_{fuero}.xlsx'"
   ]
  },
  {
   "cell_type": "code",
   "execution_count": 16,
   "metadata": {},
   "outputs": [],
   "source": [
    "from sqlalchemy import create_engine, text\n",
    "import pyperclip as pc\n",
    "import psycopg2\n",
    "import pandas as pd\n",
    "import datetime\n",
    "import os\n",
    "import glob\n",
    "os.path.abspath(os.getcwd())\n",
    "import sys\n",
    "import errno\n",
    "from pathlib import Path\n",
    "from flask import make_response,jsonify"
   ]
  },
  {
   "cell_type": "code",
   "execution_count": 1,
   "metadata": {},
   "outputs": [
    {
     "name": "stdout",
     "output_type": "stream",
     "text": [
      "Collecting GitPython\n",
      "  Downloading GitPython-3.1.17-py3-none-any.whl (166 kB)\n",
      "Collecting gitdb<5,>=4.0.1\n",
      "  Downloading gitdb-4.0.7-py3-none-any.whl (63 kB)\n",
      "Collecting smmap<5,>=3.0.1\n",
      "  Downloading smmap-4.0.0-py2.py3-none-any.whl (24 kB)\n",
      "Installing collected packages: smmap, gitdb, GitPython\n",
      "Successfully installed GitPython-3.1.17 gitdb-4.0.7 smmap-4.0.0\n"
     ]
    },
    {
     "name": "stderr",
     "output_type": "stream",
     "text": [
      "WARNING: You are using pip version 20.2.4; however, version 21.1.1 is available.\n",
      "You should consider upgrading via the 'c:\\users\\silo\\appdata\\local\\programs\\python\\python38\\python.exe -m pip install --upgrade pip' command.\n"
     ]
    }
   ],
   "source": [
    "!pip install GitPython"
   ]
  },
  {
   "cell_type": "code",
   "execution_count": 2,
   "metadata": {},
   "outputs": [],
   "source": [
    "import git "
   ]
  },
  {
   "cell_type": "code",
   "execution_count": 4,
   "metadata": {},
   "outputs": [],
   "source": [
    "cwd = os.getcwd()"
   ]
  },
  {
   "cell_type": "code",
   "execution_count": 4,
   "metadata": {},
   "outputs": [],
   "source": [
    "# Instantiate repo object\n",
    "repo = git.Repo(cwd)\n",
    "\n",
    "\n"
   ]
  },
  {
   "cell_type": "code",
   "execution_count": null,
   "metadata": {},
   "outputs": [],
   "source": [
    "# pull down \n",
    "repo.remotes.origin.pull()"
   ]
  },
  {
   "cell_type": "code",
   "execution_count": 8,
   "metadata": {},
   "outputs": [
    {
     "data": {
      "text/plain": [
       "git.remote.Remote"
      ]
     },
     "execution_count": 8,
     "metadata": {},
     "output_type": "execute_result"
    }
   ],
   "source": [
    "type(repo.remotes.origin)"
   ]
  },
  {
   "cell_type": "code",
   "execution_count": 5,
   "metadata": {},
   "outputs": [],
   "source": [
    "g = git.cmd.Git(cwd)"
   ]
  },
  {
   "cell_type": "code",
   "execution_count": 10,
   "metadata": {},
   "outputs": [
    {
     "data": {
      "text/plain": [
       "<git.cmd.Git at 0x1f5bfa23be0>"
      ]
     },
     "execution_count": 10,
     "metadata": {},
     "output_type": "execute_result"
    }
   ],
   "source": [
    "g"
   ]
  },
  {
   "cell_type": "code",
   "execution_count": null,
   "metadata": {},
   "outputs": [],
   "source": [
    "g.pull()"
   ]
  },
  {
   "cell_type": "code",
   "execution_count": 8,
   "metadata": {},
   "outputs": [
    {
     "data": {
      "text/plain": [
       "'origin'"
      ]
     },
     "execution_count": 8,
     "metadata": {},
     "output_type": "execute_result"
    }
   ],
   "source": [
    "g.remote()"
   ]
  },
  {
   "cell_type": "code",
   "execution_count": 11,
   "metadata": {
    "scrolled": true
   },
   "outputs": [
    {
     "data": {
      "text/plain": [
       "'diff --git a/Untitled.ipynb b/Untitled.ipynb\\nindex 94c0a01..0137551 100644\\n--- a/Untitled.ipynb\\n+++ b/Untitled.ipynb\\n@@ -2,7 +2,7 @@\\n  \"cells\": [\\n   {\\n    \"cell_type\": \"code\",\\n-   \"execution_count\": 21,\\n+   \"execution_count\": 1,\\n    \"metadata\": {},\\n    \"outputs\": [],\\n    \"source\": [\\n@@ -374,12 +374,175 @@\\n     \"from flask import make_response,jsonify\"\\n    ]\\n   },\\n+  {\\n+   \"cell_type\": \"code\",\\n+   \"execution_count\": 1,\\n+   \"metadata\": {},\\n+   \"outputs\": [\\n+    {\\n+     \"name\": \"stdout\",\\n+     \"output_type\": \"stream\",\\n+     \"text\": [\\n+      \"Collecting GitPython\\\\n\",\\n+      \"  Downloading GitPython-3.1.17-py3-none-any.whl (166 kB)\\\\n\",\\n+      \"Collecting gitdb<5,>=4.0.1\\\\n\",\\n+      \"  Downloading gitdb-4.0.7-py3-none-any.whl (63 kB)\\\\n\",\\n+      \"Collecting smmap<5,>=3.0.1\\\\n\",\\n+      \"  Downloading smmap-4.0.0-py2.py3-none-any.whl (24 kB)\\\\n\",\\n+      \"Installing collected packages: smmap, gitdb, GitPython\\\\n\",\\n+      \"Successfully installed GitPython-3.1.17 gitdb-4.0.7 smmap-4.0.0\\\\n\"\\n+     ]\\n+    },\\n+    {\\n+     \"name\": \"stderr\",\\n+     \"output_type\": \"stream\",\\n+     \"text\": [\\n+      \"WARNING: You are using pip version 20.2.4; however, version 21.1.1 is available.\\\\n\",\\n+      \"You should consider upgrading via the \\'c:\\\\\\\\users\\\\\\\\silo\\\\\\\\appdata\\\\\\\\local\\\\\\\\programs\\\\\\\\python\\\\\\\\python38\\\\\\\\python.exe -m pip install --upgrade pip\\' command.\\\\n\"\\n+     ]\\n+    }\\n+   ],\\n+   \"source\": [\\n+    \"!pip install GitPython\"\\n+   ]\\n+  },\\n+  {\\n+   \"cell_type\": \"code\",\\n+   \"execution_count\": 2,\\n+   \"metadata\": {},\\n+   \"outputs\": [],\\n+   \"source\": [\\n+    \"import git \"\\n+   ]\\n+  },\\n+  {\\n+   \"cell_type\": \"code\",\\n+   \"execution_count\": 4,\\n+   \"metadata\": {},\\n+   \"outputs\": [],\\n+   \"source\": [\\n+    \"cwd = os.getcwd()\"\\n+   ]\\n+  },\\n+  {\\n+   \"cell_type\": \"code\",\\n+   \"execution_count\": 4,\\n+   \"metadata\": {},\\n+   \"outputs\": [],\\n+   \"source\": [\\n+    \"# Instantiate repo object\\\\n\",\\n+    \"repo = git.Repo(cwd)\\\\n\",\\n+    \"\\\\n\",\\n+    \"\\\\n\"\\n+   ]\\n+  },\\n   {\\n    \"cell_type\": \"code\",\\n    \"execution_count\": null,\\n    \"metadata\": {},\\n    \"outputs\": [],\\n-   \"source\": []\\n+   \"source\": [\\n+    \"# pull down \\\\n\",\\n+    \"repo.remotes.origin.pull()\"\\n+   ]\\n+  },\\n+  {\\n+   \"cell_type\": \"code\",\\n+   \"execution_count\": 8,\\n+   \"metadata\": {},\\n+   \"outputs\": [\\n+    {\\n+     \"data\": {\\n+      \"text/plain\": [\\n+       \"git.remote.Remote\"\\n+      ]\\n+     },\\n+     \"execution_count\": 8,\\n+     \"metadata\": {},\\n+     \"output_type\": \"execute_result\"\\n+    }\\n+   ],\\n+   \"source\": [\\n+    \"type(repo.remotes.origin)\"\\n+   ]\\n+  },\\n+  {\\n+   \"cell_type\": \"code\",\\n+   \"execution_count\": 5,\\n+   \"metadata\": {},\\n+   \"outputs\": [],\\n+   \"source\": [\\n+    \"g = git.cmd.Git(cwd)\"\\n+   ]\\n+  },\\n+  {\\n+   \"cell_type\": \"code\",\\n+   \"execution_count\": 10,\\n+   \"metadata\": {},\\n+   \"outputs\": [\\n+    {\\n+     \"data\": {\\n+      \"text/plain\": [\\n+       \"<git.cmd.Git at 0x1f5bfa23be0>\"\\n+      ]\\n+     },\\n+     \"execution_count\": 10,\\n+     \"metadata\": {},\\n+     \"output_type\": \"execute_result\"\\n+    }\\n+   ],\\n+   \"source\": [\\n+    \"g\"\\n+   ]\\n+  },\\n+  {\\n+   \"cell_type\": \"code\",\\n+   \"execution_count\": null,\\n+   \"metadata\": {},\\n+   \"outputs\": [],\\n+   \"source\": [\\n+    \"g.pull()\"\\n+   ]\\n+  },\\n+  {\\n+   \"cell_type\": \"code\",\\n+   \"execution_count\": 8,\\n+   \"metadata\": {},\\n+   \"outputs\": [\\n+    {\\n+     \"data\": {\\n+      \"text/plain\": [\\n+       \"\\'origin\\'\"\\n+      ]\\n+     },\\n+     \"execution_count\": 8,\\n+     \"metadata\": {},\\n+     \"output_type\": \"execute_result\"\\n+    }\\n+   ],\\n+   \"source\": [\\n+    \"g.remote()\"\\n+   ]\\n+  },\\n+  {\\n+   \"cell_type\": \"code\",\\n+   \"execution_count\": 9,\\n+   \"metadata\": {},\\n+   \"outputs\": [\\n+    {\\n+     \"data\": {\\n+      \"text/plain\": [\\n+       \"\\'diff --git a/Untitled.ipynb b/Untitled.ipynb\\\\\\\\nindex 94c0a01..824ad9a 100644\\\\\\\\n--- a/Untitled.ipynb\\\\\\\\n+++ b/Untitled.ipynb\\\\\\\\n@@ -2,7 +2,7 @@\\\\\\\\n  \\\\\"cells\\\\\": [\\\\\\\\n   {\\\\\\\\n    \\\\\"cell_type\\\\\": \\\\\"code\\\\\",\\\\\\\\n-   \\\\\"execution_count\\\\\": 21,\\\\\\\\n+   \\\\\"execution_count\\\\\": 2,\\\\\\\\n    \\\\\"metadata\\\\\": {},\\\\\\\\n    \\\\\"outputs\\\\\": [],\\\\\\\\n    \\\\\"source\\\\\": [\\\\\\\\n@@ -374,6 +374,136 @@\\\\\\\\n     \\\\\"from flask import make_response,jsonify\\\\\"\\\\\\\\n    ]\\\\\\\\n   },\\\\\\\\n+  {\\\\\\\\n+   \\\\\"cell_type\\\\\": \\\\\"code\\\\\",\\\\\\\\n+   \\\\\"execution_count\\\\\": 1,\\\\\\\\n+   \\\\\"metadata\\\\\": {},\\\\\\\\n+   \\\\\"outputs\\\\\": [\\\\\\\\n+    {\\\\\\\\n+     \\\\\"name\\\\\": \\\\\"stdout\\\\\",\\\\\\\\n+     \\\\\"output_type\\\\\": \\\\\"stream\\\\\",\\\\\\\\n+     \\\\\"text\\\\\": [\\\\\\\\n+      \\\\\"Collecting GitPython\\\\\\\\\\\\\\\\n\\\\\",\\\\\\\\n+      \\\\\"  Downloading GitPython-3.1.17-py3-none-any.whl (166 kB)\\\\\\\\\\\\\\\\n\\\\\",\\\\\\\\n+      \\\\\"Collecting gitdb<5,>=4.0.1\\\\\\\\\\\\\\\\n\\\\\",\\\\\\\\n+      \\\\\"  Downloading gitdb-4.0.7-py3-none-any.whl (63 kB)\\\\\\\\\\\\\\\\n\\\\\",\\\\\\\\n+      \\\\\"Collecting smmap<5,>=3.0.1\\\\\\\\\\\\\\\\n\\\\\",\\\\\\\\n+      \\\\\"  Downloading smmap-4.0.0-py2.py3-none-any.whl (24 kB)\\\\\\\\\\\\\\\\n\\\\\",\\\\\\\\n+      \\\\\"Installing collected packages: smmap, gitdb, GitPython\\\\\\\\\\\\\\\\n\\\\\",\\\\\\\\n+      \\\\\"Successfully installed GitPython-3.1.17 gitdb-4.0.7 smmap-4.0.0\\\\\\\\\\\\\\\\n\\\\\"\\\\\\\\n+     ]\\\\\\\\n+    },\\\\\\\\n+    {\\\\\\\\n+     \\\\\"name\\\\\": \\\\\"stderr\\\\\",\\\\\\\\n+     \\\\\"output_type\\\\\": \\\\\"stream\\\\\",\\\\\\\\n+     \\\\\"text\\\\\": [\\\\\\\\n+      \\\\\"WARNING: You are using pip version 20.2.4; however, version 21.1.1 is available.\\\\\\\\\\\\\\\\n\\\\\",\\\\\\\\n+      \\\\\"You should consider upgrading via the \\\\\\\\\\'c:\\\\\\\\\\\\\\\\\\\\\\\\\\\\\\\\users\\\\\\\\\\\\\\\\\\\\\\\\\\\\\\\\silo\\\\\\\\\\\\\\\\\\\\\\\\\\\\\\\\appdata\\\\\\\\\\\\\\\\\\\\\\\\\\\\\\\\local\\\\\\\\\\\\\\\\\\\\\\\\\\\\\\\\programs\\\\\\\\\\\\\\\\\\\\\\\\\\\\\\\\python\\\\\\\\\\\\\\\\\\\\\\\\\\\\\\\\python38\\\\\\\\\\\\\\\\\\\\\\\\\\\\\\\\python.exe -m pip install --upgrade pip\\\\\\\\\\' command.\\\\\\\\\\\\\\\\n\\\\\"\\\\\\\\n+     ]\\\\\\\\n+    }\\\\\\\\n+   ],\\\\\\\\n+   \\\\\"source\\\\\": [\\\\\\\\n+    \\\\\"!pip install GitPython\\\\\"\\\\\\\\n+   ]\\\\\\\\n+  },\\\\\\\\n+  {\\\\\\\\n+   \\\\\"cell_type\\\\\": \\\\\"code\\\\\",\\\\\\\\n+   \\\\\"execution_count\\\\\": 1,\\\\\\\\n+   \\\\\"metadata\\\\\": {},\\\\\\\\n+   \\\\\"outputs\\\\\": [],\\\\\\\\n+   \\\\\"source\\\\\": [\\\\\\\\n+    \\\\\"import git \\\\\"\\\\\\\\n+   ]\\\\\\\\n+  },\\\\\\\\n+  {\\\\\\\\n+   \\\\\"cell_type\\\\\": \\\\\"code\\\\\",\\\\\\\\n+   \\\\\"execution_count\\\\\": 3,\\\\\\\\n+   \\\\\"metadata\\\\\": {},\\\\\\\\n+   \\\\\"outputs\\\\\": [],\\\\\\\\n+   \\\\\"source\\\\\": [\\\\\\\\n+    \\\\\"cwd = os.getcwd()\\\\\"\\\\\\\\n+   ]\\\\\\\\n+  },\\\\\\\\n+  {\\\\\\\\n+   \\\\\"cell_type\\\\\": \\\\\"code\\\\\",\\\\\\\\n+   \\\\\"execution_count\\\\\": 4,\\\\\\\\n+   \\\\\"metadata\\\\\": {},\\\\\\\\n+   \\\\\"outputs\\\\\": [],\\\\\\\\n+   \\\\\"source\\\\\": [\\\\\\\\n+    \\\\\"# Instantiate repo object\\\\\\\\\\\\\\\\n\\\\\",\\\\\\\\n+    \\\\\"repo = git.Repo(cwd)\\\\\\\\\\\\\\\\n\\\\\",\\\\\\\\n+    \\\\\"\\\\\\\\\\\\\\\\n\\\\\",\\\\\\\\n+    \\\\\"\\\\\\\\\\\\\\\\n\\\\\"\\\\\\\\n+   ]\\\\\\\\n+  },\\\\\\\\n+  {\\\\\\\\n+   \\\\\"cell_type\\\\\": \\\\\"code\\\\\",\\\\\\\\n+   \\\\\"execution_count\\\\\": null,\\\\\\\\n+   \\\\\"metadata\\\\\": {},\\\\\\\\n+   \\\\\"outputs\\\\\": [],\\\\\\\\n+   \\\\\"source\\\\\": [\\\\\\\\n+    \\\\\"# pull down \\\\\\\\\\\\\\\\n\\\\\",\\\\\\\\n+    \\\\\"repo.remotes.origin.pull()\\\\\"\\\\\\\\n+   ]\\\\\\\\n+  },\\\\\\\\n+  {\\\\\\\\n+   \\\\\"cell_type\\\\\": \\\\\"code\\\\\",\\\\\\\\n+   \\\\\"execution_count\\\\\": 8,\\\\\\\\n+   \\\\\"metadata\\\\\": {},\\\\\\\\n+   \\\\\"outputs\\\\\": [\\\\\\\\n+    {\\\\\\\\n+     \\\\\"data\\\\\": {\\\\\\\\n+      \\\\\"text/plain\\\\\": [\\\\\\\\n+       \\\\\"git.remote.Remote\\\\\"\\\\\\\\n+      ]\\\\\\\\n+     },\\\\\\\\n+     \\\\\"execution_count\\\\\": 8,\\\\\\\\n+     \\\\\"metadata\\\\\": {},\\\\\\\\n+     \\\\\"output_type\\\\\": \\\\\"execute_result\\\\\"\\\\\\\\n+    }\\\\\\\\n+   ],\\\\\\\\n+   \\\\\"source\\\\\": [\\\\\\\\n+    \\\\\"type(repo.remotes.origin)\\\\\"\\\\\\\\n+   ]\\\\\\\\n+  },\\\\\\\\n+  {\\\\\\\\n+   \\\\\"cell_type\\\\\": \\\\\"code\\\\\",\\\\\\\\n+   \\\\\"execution_count\\\\\": 9,\\\\\\\\n+   \\\\\"metadata\\\\\": {},\\\\\\\\n+   \\\\\"outputs\\\\\": [],\\\\\\\\n+   \\\\\"source\\\\\": [\\\\\\\\n+    \\\\\"g = git.cmd.Git(cwd)\\\\\"\\\\\\\\n+   ]\\\\\\\\n+  },\\\\\\\\n+  {\\\\\\\\n+   \\\\\"cell_type\\\\\": \\\\\"code\\\\\",\\\\\\\\n+   \\\\\"execution_count\\\\\": 10,\\\\\\\\n+   \\\\\"metadata\\\\\": {},\\\\\\\\n+   \\\\\"outputs\\\\\": [\\\\\\\\n+    {\\\\\\\\n+     \\\\\"data\\\\\": {\\\\\\\\n+      \\\\\"text/plain\\\\\": [\\\\\\\\n+       \\\\\"<git.cmd.Git at 0x1f5bfa23be0>\\\\\"\\\\\\\\n+      ]\\\\\\\\n+     },\\\\\\\\n+     \\\\\"execution_count\\\\\": 10,\\\\\\\\n+     \\\\\"metadata\\\\\": {},\\\\\\\\n+     \\\\\"output_type\\\\\": \\\\\"execute_result\\\\\"\\\\\\\\n+    }\\\\\\\\n+   ],\\\\\\\\n+   \\\\\"source\\\\\": [\\\\\\\\n+    \\\\\"g\\\\\"\\\\\\\\n+   ]\\\\\\\\n+  },\\\\\\\\n+  {\\\\\\\\n+   \\\\\"cell_type\\\\\": \\\\\"code\\\\\",\\\\\\\\n+   \\\\\"execution_count\\\\\": null,\\\\\\\\n+   \\\\\"metadata\\\\\": {},\\\\\\\\n+   \\\\\"outputs\\\\\": [],\\\\\\\\n+   \\\\\"source\\\\\": [\\\\\\\\n+    \\\\\"g.pull()\\\\\"\\\\\\\\n+   ]\\\\\\\\n+  },\\\\\\\\n   {\\\\\\\\n    \\\\\"cell_type\\\\\": \\\\\"code\\\\\",\\\\\\\\n    \\\\\"execution_count\\\\\": null,\\'\"\\n+      ]\\n+     },\\n+     \"execution_count\": 9,\\n+     \"metadata\": {},\\n+     \"output_type\": \"execute_result\"\\n+    }\\n+   ],\\n+   \"source\": [\\n+    \"g.diff()\"\\n+   ]\\n   }\\n  ],\\n  \"metadata\": {\\ndiff --git a/output/total_ingreso_a_salas_saeaprcjc_desde_20200101_hasta_20210518.xlsx b/output/total_ingreso_a_salas_saeaprcjc_desde_20200101_hasta_20210518.xlsx\\ndeleted file mode 100644\\nindex 94acb29..0000000\\nBinary files a/output/total_ingreso_a_salas_saeaprcjc_desde_20200101_hasta_20210518.xlsx and /dev/null differ'"
      ]
     },
     "execution_count": 11,
     "metadata": {},
     "output_type": "execute_result"
    }
   ],
   "source": [
    "g.diff()"
   ]
  },
  {
   "cell_type": "code",
   "execution_count": null,
   "metadata": {},
   "outputs": [],
   "source": [
    "g.pull()"
   ]
  },
  {
   "cell_type": "code",
   "execution_count": 1,
   "metadata": {},
   "outputs": [],
   "source": [
    "import sandesh"
   ]
  },
  {
   "cell_type": "code",
   "execution_count": 10,
   "metadata": {},
   "outputs": [],
   "source": [
    "import os\n",
    "import git \n",
    "#git.Repo(os.getcwd()).remotes.origin.pull('master')"
   ]
  },
  {
   "cell_type": "code",
   "execution_count": 11,
   "metadata": {},
   "outputs": [
    {
     "data": {
      "text/plain": [
       "'C:\\\\Users\\\\Silo\\\\Desktop\\\\eBot'"
      ]
     },
     "execution_count": 11,
     "metadata": {},
     "output_type": "execute_result"
    }
   ],
   "source": [
    "os.getcwd()"
   ]
  },
  {
   "cell_type": "code",
   "execution_count": 12,
   "metadata": {},
   "outputs": [],
   "source": [
    "repo = git.Repo(os.getcwd())"
   ]
  },
  {
   "cell_type": "code",
   "execution_count": 20,
   "metadata": {},
   "outputs": [
    {
     "ename": "GitCommandError",
     "evalue": "Cmd('git') failed due to: exit code(128)\n  cmdline: git add .\n  stderr: 'warning: LF will be replaced by CRLF in Untitled.ipynb.\nThe file will have its original line endings in your working directory\nerror: open(\"info/~$comoconsultar.xlsx\"): Permission denied\nerror: unable to index file 'info/~$comoconsultar.xlsx'\nfatal: adding files failed'",
     "output_type": "error",
     "traceback": [
      "\u001b[1;31m---------------------------------------------------------------------------\u001b[0m",
      "\u001b[1;31mGitCommandError\u001b[0m                           Traceback (most recent call last)",
      "\u001b[1;32m<ipython-input-20-13bdbf80e448>\u001b[0m in \u001b[0;36m<module>\u001b[1;34m\u001b[0m\n\u001b[1;32m----> 1\u001b[1;33m \u001b[0mrepo\u001b[0m\u001b[1;33m.\u001b[0m\u001b[0mgit\u001b[0m\u001b[1;33m.\u001b[0m\u001b[0madd\u001b[0m\u001b[1;33m(\u001b[0m\u001b[1;34m'.'\u001b[0m\u001b[1;33m)\u001b[0m\u001b[1;33m\u001b[0m\u001b[1;33m\u001b[0m\u001b[0m\n\u001b[0m",
      "\u001b[1;32mc:\\users\\silo\\appdata\\local\\programs\\python\\python38\\lib\\site-packages\\git\\cmd.py\u001b[0m in \u001b[0;36m<lambda>\u001b[1;34m(*args, **kwargs)\u001b[0m\n\u001b[0;32m    586\u001b[0m         \u001b[1;32mif\u001b[0m \u001b[0mname\u001b[0m\u001b[1;33m[\u001b[0m\u001b[1;36m0\u001b[0m\u001b[1;33m]\u001b[0m \u001b[1;33m==\u001b[0m \u001b[1;34m'_'\u001b[0m\u001b[1;33m:\u001b[0m\u001b[1;33m\u001b[0m\u001b[1;33m\u001b[0m\u001b[0m\n\u001b[0;32m    587\u001b[0m             \u001b[1;32mreturn\u001b[0m \u001b[0mLazyMixin\u001b[0m\u001b[1;33m.\u001b[0m\u001b[0m__getattr__\u001b[0m\u001b[1;33m(\u001b[0m\u001b[0mself\u001b[0m\u001b[1;33m,\u001b[0m \u001b[0mname\u001b[0m\u001b[1;33m)\u001b[0m\u001b[1;33m\u001b[0m\u001b[1;33m\u001b[0m\u001b[0m\n\u001b[1;32m--> 588\u001b[1;33m         \u001b[1;32mreturn\u001b[0m \u001b[1;32mlambda\u001b[0m \u001b[1;33m*\u001b[0m\u001b[0margs\u001b[0m\u001b[1;33m,\u001b[0m \u001b[1;33m**\u001b[0m\u001b[0mkwargs\u001b[0m\u001b[1;33m:\u001b[0m \u001b[0mself\u001b[0m\u001b[1;33m.\u001b[0m\u001b[0m_call_process\u001b[0m\u001b[1;33m(\u001b[0m\u001b[0mname\u001b[0m\u001b[1;33m,\u001b[0m \u001b[1;33m*\u001b[0m\u001b[0margs\u001b[0m\u001b[1;33m,\u001b[0m \u001b[1;33m**\u001b[0m\u001b[0mkwargs\u001b[0m\u001b[1;33m)\u001b[0m\u001b[1;33m\u001b[0m\u001b[1;33m\u001b[0m\u001b[0m\n\u001b[0m\u001b[0;32m    589\u001b[0m \u001b[1;33m\u001b[0m\u001b[0m\n\u001b[0;32m    590\u001b[0m     \u001b[1;32mdef\u001b[0m \u001b[0mset_persistent_git_options\u001b[0m\u001b[1;33m(\u001b[0m\u001b[0mself\u001b[0m\u001b[1;33m,\u001b[0m \u001b[1;33m**\u001b[0m\u001b[0mkwargs\u001b[0m\u001b[1;33m:\u001b[0m \u001b[0mAny\u001b[0m\u001b[1;33m)\u001b[0m \u001b[1;33m->\u001b[0m \u001b[1;32mNone\u001b[0m\u001b[1;33m:\u001b[0m\u001b[1;33m\u001b[0m\u001b[1;33m\u001b[0m\u001b[0m\n",
      "\u001b[1;32mc:\\users\\silo\\appdata\\local\\programs\\python\\python38\\lib\\site-packages\\git\\cmd.py\u001b[0m in \u001b[0;36m_call_process\u001b[1;34m(self, method, *args, **kwargs)\u001b[0m\n\u001b[0;32m   1132\u001b[0m         \u001b[0mcall\u001b[0m\u001b[1;33m.\u001b[0m\u001b[0mextend\u001b[0m\u001b[1;33m(\u001b[0m\u001b[0margs_list\u001b[0m\u001b[1;33m)\u001b[0m\u001b[1;33m\u001b[0m\u001b[1;33m\u001b[0m\u001b[0m\n\u001b[0;32m   1133\u001b[0m \u001b[1;33m\u001b[0m\u001b[0m\n\u001b[1;32m-> 1134\u001b[1;33m         \u001b[1;32mreturn\u001b[0m \u001b[0mself\u001b[0m\u001b[1;33m.\u001b[0m\u001b[0mexecute\u001b[0m\u001b[1;33m(\u001b[0m\u001b[0mcall\u001b[0m\u001b[1;33m,\u001b[0m \u001b[1;33m**\u001b[0m\u001b[0mexec_kwargs\u001b[0m\u001b[1;33m)\u001b[0m\u001b[1;33m\u001b[0m\u001b[1;33m\u001b[0m\u001b[0m\n\u001b[0m\u001b[0;32m   1135\u001b[0m \u001b[1;33m\u001b[0m\u001b[0m\n\u001b[0;32m   1136\u001b[0m     \u001b[1;32mdef\u001b[0m \u001b[0m_parse_object_header\u001b[0m\u001b[1;33m(\u001b[0m\u001b[0mself\u001b[0m\u001b[1;33m,\u001b[0m \u001b[0mheader_line\u001b[0m\u001b[1;33m:\u001b[0m \u001b[0mstr\u001b[0m\u001b[1;33m)\u001b[0m \u001b[1;33m->\u001b[0m \u001b[0mTuple\u001b[0m\u001b[1;33m[\u001b[0m\u001b[0mstr\u001b[0m\u001b[1;33m,\u001b[0m \u001b[0mstr\u001b[0m\u001b[1;33m,\u001b[0m \u001b[0mint\u001b[0m\u001b[1;33m]\u001b[0m\u001b[1;33m:\u001b[0m\u001b[1;33m\u001b[0m\u001b[1;33m\u001b[0m\u001b[0m\n",
      "\u001b[1;32mc:\\users\\silo\\appdata\\local\\programs\\python\\python38\\lib\\site-packages\\git\\cmd.py\u001b[0m in \u001b[0;36mexecute\u001b[1;34m(self, command, istream, with_extended_output, with_exceptions, as_process, output_stream, stdout_as_string, kill_after_timeout, with_stdout, universal_newlines, shell, env, max_chunk_size, **subprocess_kwargs)\u001b[0m\n\u001b[0;32m    929\u001b[0m \u001b[1;33m\u001b[0m\u001b[0m\n\u001b[0;32m    930\u001b[0m         \u001b[1;32mif\u001b[0m \u001b[0mwith_exceptions\u001b[0m \u001b[1;32mand\u001b[0m \u001b[0mstatus\u001b[0m \u001b[1;33m!=\u001b[0m \u001b[1;36m0\u001b[0m\u001b[1;33m:\u001b[0m\u001b[1;33m\u001b[0m\u001b[1;33m\u001b[0m\u001b[0m\n\u001b[1;32m--> 931\u001b[1;33m             \u001b[1;32mraise\u001b[0m \u001b[0mGitCommandError\u001b[0m\u001b[1;33m(\u001b[0m\u001b[0mredacted_command\u001b[0m\u001b[1;33m,\u001b[0m \u001b[0mstatus\u001b[0m\u001b[1;33m,\u001b[0m \u001b[0mstderr_value\u001b[0m\u001b[1;33m,\u001b[0m \u001b[0mstdout_value\u001b[0m\u001b[1;33m)\u001b[0m\u001b[1;33m\u001b[0m\u001b[1;33m\u001b[0m\u001b[0m\n\u001b[0m\u001b[0;32m    932\u001b[0m \u001b[1;33m\u001b[0m\u001b[0m\n\u001b[0;32m    933\u001b[0m         \u001b[1;32mif\u001b[0m \u001b[0misinstance\u001b[0m\u001b[1;33m(\u001b[0m\u001b[0mstdout_value\u001b[0m\u001b[1;33m,\u001b[0m \u001b[0mbytes\u001b[0m\u001b[1;33m)\u001b[0m \u001b[1;32mand\u001b[0m \u001b[0mstdout_as_string\u001b[0m\u001b[1;33m:\u001b[0m  \u001b[1;31m# could also be output_stream\u001b[0m\u001b[1;33m\u001b[0m\u001b[1;33m\u001b[0m\u001b[0m\n",
      "\u001b[1;31mGitCommandError\u001b[0m: Cmd('git') failed due to: exit code(128)\n  cmdline: git add .\n  stderr: 'warning: LF will be replaced by CRLF in Untitled.ipynb.\nThe file will have its original line endings in your working directory\nerror: open(\"info/~$comoconsultar.xlsx\"): Permission denied\nerror: unable to index file 'info/~$comoconsultar.xlsx'\nfatal: adding files failed'"
     ]
    }
   ],
   "source": [
    "repo.git.add('.')"
   ]
  },
  {
   "cell_type": "code",
   "execution_count": 18,
   "metadata": {},
   "outputs": [
    {
     "ename": "GitCommandError",
     "evalue": "Cmd('git') failed due to: exit code(1)\n  cmdline: git commit -m \"test commit\"\n  stdout: 'On branch master\nChanges not staged for commit:\n\tmodified:   Untitled.ipynb\n\tmodified:   __pycache__/doQuery.cpython-38.pyc\n\tmodified:   __pycache__/executeQuery.cpython-38.pyc\n\tmodified:   __pycache__/info.cpython-38.pyc\n\tmodified:   __pycache__/pull.cpython-38.pyc\n\tmodified:   doQuery.py\n\tmodified:   executeQuery.py\n\tmodified:   info.py\n\tmodified:   output/diligencias__saeaprcjc.xlsx\n\tmodified:   pull.py\n\nUntracked files:\n\tinfo/~$comoconsultar.xlsx\n\toutput/diligencias__saeapr.xlsx\n\toutput/response_saedoccjm.xlsx\n\tqueries/a..sql\n\nno changes added to commit'",
     "output_type": "error",
     "traceback": [
      "\u001b[1;31m---------------------------------------------------------------------------\u001b[0m",
      "\u001b[1;31mGitCommandError\u001b[0m                           Traceback (most recent call last)",
      "\u001b[1;32m<ipython-input-18-5a6f5e04b897>\u001b[0m in \u001b[0;36m<module>\u001b[1;34m\u001b[0m\n\u001b[1;32m----> 1\u001b[1;33m \u001b[0mrepo\u001b[0m\u001b[1;33m.\u001b[0m\u001b[0mgit\u001b[0m\u001b[1;33m.\u001b[0m\u001b[0mcommit\u001b[0m\u001b[1;33m(\u001b[0m\u001b[1;34m'-m'\u001b[0m\u001b[1;33m,\u001b[0m \u001b[1;34m'\"test commit\"'\u001b[0m\u001b[1;33m)\u001b[0m\u001b[1;33m\u001b[0m\u001b[1;33m\u001b[0m\u001b[0m\n\u001b[0m",
      "\u001b[1;32mc:\\users\\silo\\appdata\\local\\programs\\python\\python38\\lib\\site-packages\\git\\cmd.py\u001b[0m in \u001b[0;36m<lambda>\u001b[1;34m(*args, **kwargs)\u001b[0m\n\u001b[0;32m    586\u001b[0m         \u001b[1;32mif\u001b[0m \u001b[0mname\u001b[0m\u001b[1;33m[\u001b[0m\u001b[1;36m0\u001b[0m\u001b[1;33m]\u001b[0m \u001b[1;33m==\u001b[0m \u001b[1;34m'_'\u001b[0m\u001b[1;33m:\u001b[0m\u001b[1;33m\u001b[0m\u001b[1;33m\u001b[0m\u001b[0m\n\u001b[0;32m    587\u001b[0m             \u001b[1;32mreturn\u001b[0m \u001b[0mLazyMixin\u001b[0m\u001b[1;33m.\u001b[0m\u001b[0m__getattr__\u001b[0m\u001b[1;33m(\u001b[0m\u001b[0mself\u001b[0m\u001b[1;33m,\u001b[0m \u001b[0mname\u001b[0m\u001b[1;33m)\u001b[0m\u001b[1;33m\u001b[0m\u001b[1;33m\u001b[0m\u001b[0m\n\u001b[1;32m--> 588\u001b[1;33m         \u001b[1;32mreturn\u001b[0m \u001b[1;32mlambda\u001b[0m \u001b[1;33m*\u001b[0m\u001b[0margs\u001b[0m\u001b[1;33m,\u001b[0m \u001b[1;33m**\u001b[0m\u001b[0mkwargs\u001b[0m\u001b[1;33m:\u001b[0m \u001b[0mself\u001b[0m\u001b[1;33m.\u001b[0m\u001b[0m_call_process\u001b[0m\u001b[1;33m(\u001b[0m\u001b[0mname\u001b[0m\u001b[1;33m,\u001b[0m \u001b[1;33m*\u001b[0m\u001b[0margs\u001b[0m\u001b[1;33m,\u001b[0m \u001b[1;33m**\u001b[0m\u001b[0mkwargs\u001b[0m\u001b[1;33m)\u001b[0m\u001b[1;33m\u001b[0m\u001b[1;33m\u001b[0m\u001b[0m\n\u001b[0m\u001b[0;32m    589\u001b[0m \u001b[1;33m\u001b[0m\u001b[0m\n\u001b[0;32m    590\u001b[0m     \u001b[1;32mdef\u001b[0m \u001b[0mset_persistent_git_options\u001b[0m\u001b[1;33m(\u001b[0m\u001b[0mself\u001b[0m\u001b[1;33m,\u001b[0m \u001b[1;33m**\u001b[0m\u001b[0mkwargs\u001b[0m\u001b[1;33m:\u001b[0m \u001b[0mAny\u001b[0m\u001b[1;33m)\u001b[0m \u001b[1;33m->\u001b[0m \u001b[1;32mNone\u001b[0m\u001b[1;33m:\u001b[0m\u001b[1;33m\u001b[0m\u001b[1;33m\u001b[0m\u001b[0m\n",
      "\u001b[1;32mc:\\users\\silo\\appdata\\local\\programs\\python\\python38\\lib\\site-packages\\git\\cmd.py\u001b[0m in \u001b[0;36m_call_process\u001b[1;34m(self, method, *args, **kwargs)\u001b[0m\n\u001b[0;32m   1132\u001b[0m         \u001b[0mcall\u001b[0m\u001b[1;33m.\u001b[0m\u001b[0mextend\u001b[0m\u001b[1;33m(\u001b[0m\u001b[0margs_list\u001b[0m\u001b[1;33m)\u001b[0m\u001b[1;33m\u001b[0m\u001b[1;33m\u001b[0m\u001b[0m\n\u001b[0;32m   1133\u001b[0m \u001b[1;33m\u001b[0m\u001b[0m\n\u001b[1;32m-> 1134\u001b[1;33m         \u001b[1;32mreturn\u001b[0m \u001b[0mself\u001b[0m\u001b[1;33m.\u001b[0m\u001b[0mexecute\u001b[0m\u001b[1;33m(\u001b[0m\u001b[0mcall\u001b[0m\u001b[1;33m,\u001b[0m \u001b[1;33m**\u001b[0m\u001b[0mexec_kwargs\u001b[0m\u001b[1;33m)\u001b[0m\u001b[1;33m\u001b[0m\u001b[1;33m\u001b[0m\u001b[0m\n\u001b[0m\u001b[0;32m   1135\u001b[0m \u001b[1;33m\u001b[0m\u001b[0m\n\u001b[0;32m   1136\u001b[0m     \u001b[1;32mdef\u001b[0m \u001b[0m_parse_object_header\u001b[0m\u001b[1;33m(\u001b[0m\u001b[0mself\u001b[0m\u001b[1;33m,\u001b[0m \u001b[0mheader_line\u001b[0m\u001b[1;33m:\u001b[0m \u001b[0mstr\u001b[0m\u001b[1;33m)\u001b[0m \u001b[1;33m->\u001b[0m \u001b[0mTuple\u001b[0m\u001b[1;33m[\u001b[0m\u001b[0mstr\u001b[0m\u001b[1;33m,\u001b[0m \u001b[0mstr\u001b[0m\u001b[1;33m,\u001b[0m \u001b[0mint\u001b[0m\u001b[1;33m]\u001b[0m\u001b[1;33m:\u001b[0m\u001b[1;33m\u001b[0m\u001b[1;33m\u001b[0m\u001b[0m\n",
      "\u001b[1;32mc:\\users\\silo\\appdata\\local\\programs\\python\\python38\\lib\\site-packages\\git\\cmd.py\u001b[0m in \u001b[0;36mexecute\u001b[1;34m(self, command, istream, with_extended_output, with_exceptions, as_process, output_stream, stdout_as_string, kill_after_timeout, with_stdout, universal_newlines, shell, env, max_chunk_size, **subprocess_kwargs)\u001b[0m\n\u001b[0;32m    929\u001b[0m \u001b[1;33m\u001b[0m\u001b[0m\n\u001b[0;32m    930\u001b[0m         \u001b[1;32mif\u001b[0m \u001b[0mwith_exceptions\u001b[0m \u001b[1;32mand\u001b[0m \u001b[0mstatus\u001b[0m \u001b[1;33m!=\u001b[0m \u001b[1;36m0\u001b[0m\u001b[1;33m:\u001b[0m\u001b[1;33m\u001b[0m\u001b[1;33m\u001b[0m\u001b[0m\n\u001b[1;32m--> 931\u001b[1;33m             \u001b[1;32mraise\u001b[0m \u001b[0mGitCommandError\u001b[0m\u001b[1;33m(\u001b[0m\u001b[0mredacted_command\u001b[0m\u001b[1;33m,\u001b[0m \u001b[0mstatus\u001b[0m\u001b[1;33m,\u001b[0m \u001b[0mstderr_value\u001b[0m\u001b[1;33m,\u001b[0m \u001b[0mstdout_value\u001b[0m\u001b[1;33m)\u001b[0m\u001b[1;33m\u001b[0m\u001b[1;33m\u001b[0m\u001b[0m\n\u001b[0m\u001b[0;32m    932\u001b[0m \u001b[1;33m\u001b[0m\u001b[0m\n\u001b[0;32m    933\u001b[0m         \u001b[1;32mif\u001b[0m \u001b[0misinstance\u001b[0m\u001b[1;33m(\u001b[0m\u001b[0mstdout_value\u001b[0m\u001b[1;33m,\u001b[0m \u001b[0mbytes\u001b[0m\u001b[1;33m)\u001b[0m \u001b[1;32mand\u001b[0m \u001b[0mstdout_as_string\u001b[0m\u001b[1;33m:\u001b[0m  \u001b[1;31m# could also be output_stream\u001b[0m\u001b[1;33m\u001b[0m\u001b[1;33m\u001b[0m\u001b[0m\n",
      "\u001b[1;31mGitCommandError\u001b[0m: Cmd('git') failed due to: exit code(1)\n  cmdline: git commit -m \"test commit\"\n  stdout: 'On branch master\nChanges not staged for commit:\n\tmodified:   Untitled.ipynb\n\tmodified:   __pycache__/doQuery.cpython-38.pyc\n\tmodified:   __pycache__/executeQuery.cpython-38.pyc\n\tmodified:   __pycache__/info.cpython-38.pyc\n\tmodified:   __pycache__/pull.cpython-38.pyc\n\tmodified:   doQuery.py\n\tmodified:   executeQuery.py\n\tmodified:   info.py\n\tmodified:   output/diligencias__saeaprcjc.xlsx\n\tmodified:   pull.py\n\nUntracked files:\n\tinfo/~$comoconsultar.xlsx\n\toutput/diligencias__saeapr.xlsx\n\toutput/response_saedoccjm.xlsx\n\tqueries/a..sql\n\nno changes added to commit'"
     ]
    }
   ],
   "source": [
    "repo.git.commit('-m', '\"test commit\"')"
   ]
  },
  {
   "cell_type": "code",
   "execution_count": 9,
   "metadata": {},
   "outputs": [
    {
     "data": {
      "text/plain": [
       "[<git.remote.PushInfo at 0x20ac6129ea0>]"
      ]
     },
     "execution_count": 9,
     "metadata": {},
     "output_type": "execute_result"
    }
   ],
   "source": [
    "repo.remotes.origin.push('master')"
   ]
  },
  {
   "cell_type": "code",
   "execution_count": 32,
   "metadata": {},
   "outputs": [
    {
     "ename": "GitCommandError",
     "evalue": "Cmd('git') failed due to: exit code(1)\n  cmdline: git commit -m changing text in a\n  stdout: 'On branch master\nUntracked files:\n\tinfo/~$comoconsultar.xlsx\n\toutput/diligencias__saeapr.xlsx\n\toutput/response_saedoccjm.xlsx\n\tqueries/a..sql\n\nnothing added to commit but untracked files present'",
     "output_type": "error",
     "traceback": [
      "\u001b[1;31m---------------------------------------------------------------------------\u001b[0m",
      "\u001b[1;31mGitCommandError\u001b[0m                           Traceback (most recent call last)",
      "\u001b[1;32m<ipython-input-32-aa5dd4455a3a>\u001b[0m in \u001b[0;36m<module>\u001b[1;34m\u001b[0m\n\u001b[0;32m      7\u001b[0m     \u001b[0mrepo\u001b[0m\u001b[1;33m.\u001b[0m\u001b[0mgit\u001b[0m\u001b[1;33m.\u001b[0m\u001b[0madd\u001b[0m\u001b[1;33m(\u001b[0m\u001b[0mu\u001b[0m\u001b[1;33m=\u001b[0m\u001b[1;32mTrue\u001b[0m\u001b[1;33m)\u001b[0m\u001b[1;33m\u001b[0m\u001b[1;33m\u001b[0m\u001b[0m\n\u001b[0;32m      8\u001b[0m \u001b[1;33m\u001b[0m\u001b[0m\n\u001b[1;32m----> 9\u001b[1;33m \u001b[0mrepo\u001b[0m\u001b[1;33m.\u001b[0m\u001b[0mgit\u001b[0m\u001b[1;33m.\u001b[0m\u001b[0mcommit\u001b[0m\u001b[1;33m(\u001b[0m\u001b[1;34m'-m'\u001b[0m\u001b[1;33m,\u001b[0m \u001b[1;34mf'{commit_message}'\u001b[0m\u001b[1;33m)\u001b[0m\u001b[1;31m#, author='sunilt@xxx.com')\u001b[0m\u001b[1;33m\u001b[0m\u001b[1;33m\u001b[0m\u001b[0m\n\u001b[0m",
      "\u001b[1;32mc:\\users\\silo\\appdata\\local\\programs\\python\\python38\\lib\\site-packages\\git\\cmd.py\u001b[0m in \u001b[0;36m<lambda>\u001b[1;34m(*args, **kwargs)\u001b[0m\n\u001b[0;32m    586\u001b[0m         \u001b[1;32mif\u001b[0m \u001b[0mname\u001b[0m\u001b[1;33m[\u001b[0m\u001b[1;36m0\u001b[0m\u001b[1;33m]\u001b[0m \u001b[1;33m==\u001b[0m \u001b[1;34m'_'\u001b[0m\u001b[1;33m:\u001b[0m\u001b[1;33m\u001b[0m\u001b[1;33m\u001b[0m\u001b[0m\n\u001b[0;32m    587\u001b[0m             \u001b[1;32mreturn\u001b[0m \u001b[0mLazyMixin\u001b[0m\u001b[1;33m.\u001b[0m\u001b[0m__getattr__\u001b[0m\u001b[1;33m(\u001b[0m\u001b[0mself\u001b[0m\u001b[1;33m,\u001b[0m \u001b[0mname\u001b[0m\u001b[1;33m)\u001b[0m\u001b[1;33m\u001b[0m\u001b[1;33m\u001b[0m\u001b[0m\n\u001b[1;32m--> 588\u001b[1;33m         \u001b[1;32mreturn\u001b[0m \u001b[1;32mlambda\u001b[0m \u001b[1;33m*\u001b[0m\u001b[0margs\u001b[0m\u001b[1;33m,\u001b[0m \u001b[1;33m**\u001b[0m\u001b[0mkwargs\u001b[0m\u001b[1;33m:\u001b[0m \u001b[0mself\u001b[0m\u001b[1;33m.\u001b[0m\u001b[0m_call_process\u001b[0m\u001b[1;33m(\u001b[0m\u001b[0mname\u001b[0m\u001b[1;33m,\u001b[0m \u001b[1;33m*\u001b[0m\u001b[0margs\u001b[0m\u001b[1;33m,\u001b[0m \u001b[1;33m**\u001b[0m\u001b[0mkwargs\u001b[0m\u001b[1;33m)\u001b[0m\u001b[1;33m\u001b[0m\u001b[1;33m\u001b[0m\u001b[0m\n\u001b[0m\u001b[0;32m    589\u001b[0m \u001b[1;33m\u001b[0m\u001b[0m\n\u001b[0;32m    590\u001b[0m     \u001b[1;32mdef\u001b[0m \u001b[0mset_persistent_git_options\u001b[0m\u001b[1;33m(\u001b[0m\u001b[0mself\u001b[0m\u001b[1;33m,\u001b[0m \u001b[1;33m**\u001b[0m\u001b[0mkwargs\u001b[0m\u001b[1;33m:\u001b[0m \u001b[0mAny\u001b[0m\u001b[1;33m)\u001b[0m \u001b[1;33m->\u001b[0m \u001b[1;32mNone\u001b[0m\u001b[1;33m:\u001b[0m\u001b[1;33m\u001b[0m\u001b[1;33m\u001b[0m\u001b[0m\n",
      "\u001b[1;32mc:\\users\\silo\\appdata\\local\\programs\\python\\python38\\lib\\site-packages\\git\\cmd.py\u001b[0m in \u001b[0;36m_call_process\u001b[1;34m(self, method, *args, **kwargs)\u001b[0m\n\u001b[0;32m   1132\u001b[0m         \u001b[0mcall\u001b[0m\u001b[1;33m.\u001b[0m\u001b[0mextend\u001b[0m\u001b[1;33m(\u001b[0m\u001b[0margs_list\u001b[0m\u001b[1;33m)\u001b[0m\u001b[1;33m\u001b[0m\u001b[1;33m\u001b[0m\u001b[0m\n\u001b[0;32m   1133\u001b[0m \u001b[1;33m\u001b[0m\u001b[0m\n\u001b[1;32m-> 1134\u001b[1;33m         \u001b[1;32mreturn\u001b[0m \u001b[0mself\u001b[0m\u001b[1;33m.\u001b[0m\u001b[0mexecute\u001b[0m\u001b[1;33m(\u001b[0m\u001b[0mcall\u001b[0m\u001b[1;33m,\u001b[0m \u001b[1;33m**\u001b[0m\u001b[0mexec_kwargs\u001b[0m\u001b[1;33m)\u001b[0m\u001b[1;33m\u001b[0m\u001b[1;33m\u001b[0m\u001b[0m\n\u001b[0m\u001b[0;32m   1135\u001b[0m \u001b[1;33m\u001b[0m\u001b[0m\n\u001b[0;32m   1136\u001b[0m     \u001b[1;32mdef\u001b[0m \u001b[0m_parse_object_header\u001b[0m\u001b[1;33m(\u001b[0m\u001b[0mself\u001b[0m\u001b[1;33m,\u001b[0m \u001b[0mheader_line\u001b[0m\u001b[1;33m:\u001b[0m \u001b[0mstr\u001b[0m\u001b[1;33m)\u001b[0m \u001b[1;33m->\u001b[0m \u001b[0mTuple\u001b[0m\u001b[1;33m[\u001b[0m\u001b[0mstr\u001b[0m\u001b[1;33m,\u001b[0m \u001b[0mstr\u001b[0m\u001b[1;33m,\u001b[0m \u001b[0mint\u001b[0m\u001b[1;33m]\u001b[0m\u001b[1;33m:\u001b[0m\u001b[1;33m\u001b[0m\u001b[1;33m\u001b[0m\u001b[0m\n",
      "\u001b[1;32mc:\\users\\silo\\appdata\\local\\programs\\python\\python38\\lib\\site-packages\\git\\cmd.py\u001b[0m in \u001b[0;36mexecute\u001b[1;34m(self, command, istream, with_extended_output, with_exceptions, as_process, output_stream, stdout_as_string, kill_after_timeout, with_stdout, universal_newlines, shell, env, max_chunk_size, **subprocess_kwargs)\u001b[0m\n\u001b[0;32m    929\u001b[0m \u001b[1;33m\u001b[0m\u001b[0m\n\u001b[0;32m    930\u001b[0m         \u001b[1;32mif\u001b[0m \u001b[0mwith_exceptions\u001b[0m \u001b[1;32mand\u001b[0m \u001b[0mstatus\u001b[0m \u001b[1;33m!=\u001b[0m \u001b[1;36m0\u001b[0m\u001b[1;33m:\u001b[0m\u001b[1;33m\u001b[0m\u001b[1;33m\u001b[0m\u001b[0m\n\u001b[1;32m--> 931\u001b[1;33m             \u001b[1;32mraise\u001b[0m \u001b[0mGitCommandError\u001b[0m\u001b[1;33m(\u001b[0m\u001b[0mredacted_command\u001b[0m\u001b[1;33m,\u001b[0m \u001b[0mstatus\u001b[0m\u001b[1;33m,\u001b[0m \u001b[0mstderr_value\u001b[0m\u001b[1;33m,\u001b[0m \u001b[0mstdout_value\u001b[0m\u001b[1;33m)\u001b[0m\u001b[1;33m\u001b[0m\u001b[1;33m\u001b[0m\u001b[0m\n\u001b[0m\u001b[0;32m    932\u001b[0m \u001b[1;33m\u001b[0m\u001b[0m\n\u001b[0;32m    933\u001b[0m         \u001b[1;32mif\u001b[0m \u001b[0misinstance\u001b[0m\u001b[1;33m(\u001b[0m\u001b[0mstdout_value\u001b[0m\u001b[1;33m,\u001b[0m \u001b[0mbytes\u001b[0m\u001b[1;33m)\u001b[0m \u001b[1;32mand\u001b[0m \u001b[0mstdout_as_string\u001b[0m\u001b[1;33m:\u001b[0m  \u001b[1;31m# could also be output_stream\u001b[0m\u001b[1;33m\u001b[0m\u001b[1;33m\u001b[0m\u001b[0m\n",
      "\u001b[1;31mGitCommandError\u001b[0m: Cmd('git') failed due to: exit code(1)\n  cmdline: git commit -m changing text in a\n  stdout: 'On branch master\nUntracked files:\n\tinfo/~$comoconsultar.xlsx\n\toutput/diligencias__saeapr.xlsx\n\toutput/response_saedoccjm.xlsx\n\tqueries/a..sql\n\nnothing added to commit but untracked files present'"
     ]
    }
   ],
   "source": [
    "import git\n",
    "commit_message = 'changing text in a2'\n",
    "repo = git.Repo(os.getcwd())\n",
    "files = repo.git.diff(None, name_only=True)\n",
    "for f in files.split('\\n'):\n",
    "#    show_diff(f)\n",
    "    repo.git.add(u=True)\n",
    "\n",
    "repo.git.commit('-m', f'{commit_message}')#, author='sunilt@xxx.com')"
   ]
  },
  {
   "cell_type": "code",
   "execution_count": 31,
   "metadata": {},
   "outputs": [
    {
     "data": {
      "text/plain": [
       "[<git.remote.PushInfo at 0x20ac7b8fc20>]"
      ]
     },
     "execution_count": 31,
     "metadata": {},
     "output_type": "execute_result"
    }
   ],
   "source": [
    "repo.remotes.origin.push('master')"
   ]
  },
  {
   "cell_type": "code",
   "execution_count": null,
   "metadata": {},
   "outputs": [],
   "source": []
  }
 ],
 "metadata": {
  "kernelspec": {
   "display_name": "Python 3",
   "language": "python",
   "name": "python3"
  },
  "language_info": {
   "codemirror_mode": {
    "name": "ipython",
    "version": 3
   },
   "file_extension": ".py",
   "mimetype": "text/x-python",
   "name": "python",
   "nbconvert_exporter": "python",
   "pygments_lexer": "ipython3",
   "version": "3.8.6"
  }
 },
 "nbformat": 4,
 "nbformat_minor": 4
}
